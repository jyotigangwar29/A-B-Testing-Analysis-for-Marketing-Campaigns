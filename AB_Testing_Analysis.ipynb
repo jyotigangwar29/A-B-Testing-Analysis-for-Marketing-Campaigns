{
 "cells": [
  {
   "cell_type": "markdown",
   "id": "d618fef8",
   "metadata": {},
   "source": [
    "# A/B Testing Analysis for Marketing Campaigns\n",
    "## Objective\n",
    "This analysis compares the performance of two marketing campaigns, the Control Campaign and the Test Campaign, in terms of key performance indicators:\n",
    "- **Click Through Rate (CTR):** A measure of the number of clicks an ad receives relative to its impressions.\n",
    "- **Conversion Rate (CR):** A measure of the number of conversions (e.g., purchases) relative to ad clicks.\n",
    "\n",
    "The goal is to evaluate whether the Test Campaign outperforms the Control Campaign and provide actionable insights to improve future marketing strategies.\n"
   ]
  },
  {
   "cell_type": "markdown",
   "id": "8f79bbc0",
   "metadata": {},
   "source": [
    "## Data Pre-Processing\n",
    "The datasets for the control and test campaigns are loaded for further analysis."
   ]
  },
  {
   "cell_type": "code",
   "execution_count": 1,
   "id": "fc1d2e02-2a77-44f2-aab4-091154fa82f9",
   "metadata": {},
   "outputs": [
    {
     "data": {
      "text/html": [
       "<div>\n",
       "<style scoped>\n",
       "    .dataframe tbody tr th:only-of-type {\n",
       "        vertical-align: middle;\n",
       "    }\n",
       "\n",
       "    .dataframe tbody tr th {\n",
       "        vertical-align: top;\n",
       "    }\n",
       "\n",
       "    .dataframe thead th {\n",
       "        text-align: right;\n",
       "    }\n",
       "</style>\n",
       "<table border=\"1\" class=\"dataframe\">\n",
       "  <thead>\n",
       "    <tr style=\"text-align: right;\">\n",
       "      <th></th>\n",
       "      <th>Campaign Name</th>\n",
       "      <th>Date</th>\n",
       "      <th>Spend [USD]</th>\n",
       "      <th># of Impressions</th>\n",
       "      <th>Reach</th>\n",
       "      <th># of Website Clicks</th>\n",
       "      <th># of Searches</th>\n",
       "      <th># of View Content</th>\n",
       "      <th># of Add to Cart</th>\n",
       "      <th># of Purchase</th>\n",
       "    </tr>\n",
       "  </thead>\n",
       "  <tbody>\n",
       "    <tr>\n",
       "      <th>0</th>\n",
       "      <td>Control Campaign</td>\n",
       "      <td>1.08.2019</td>\n",
       "      <td>2280</td>\n",
       "      <td>82702.0</td>\n",
       "      <td>56930.0</td>\n",
       "      <td>7016.0</td>\n",
       "      <td>2290.0</td>\n",
       "      <td>2159.0</td>\n",
       "      <td>1819.0</td>\n",
       "      <td>618.0</td>\n",
       "    </tr>\n",
       "    <tr>\n",
       "      <th>1</th>\n",
       "      <td>Control Campaign</td>\n",
       "      <td>2.08.2019</td>\n",
       "      <td>1757</td>\n",
       "      <td>121040.0</td>\n",
       "      <td>102513.0</td>\n",
       "      <td>8110.0</td>\n",
       "      <td>2033.0</td>\n",
       "      <td>1841.0</td>\n",
       "      <td>1219.0</td>\n",
       "      <td>511.0</td>\n",
       "    </tr>\n",
       "    <tr>\n",
       "      <th>2</th>\n",
       "      <td>Control Campaign</td>\n",
       "      <td>3.08.2019</td>\n",
       "      <td>2343</td>\n",
       "      <td>131711.0</td>\n",
       "      <td>110862.0</td>\n",
       "      <td>6508.0</td>\n",
       "      <td>1737.0</td>\n",
       "      <td>1549.0</td>\n",
       "      <td>1134.0</td>\n",
       "      <td>372.0</td>\n",
       "    </tr>\n",
       "    <tr>\n",
       "      <th>3</th>\n",
       "      <td>Control Campaign</td>\n",
       "      <td>4.08.2019</td>\n",
       "      <td>1940</td>\n",
       "      <td>72878.0</td>\n",
       "      <td>61235.0</td>\n",
       "      <td>3065.0</td>\n",
       "      <td>1042.0</td>\n",
       "      <td>982.0</td>\n",
       "      <td>1183.0</td>\n",
       "      <td>340.0</td>\n",
       "    </tr>\n",
       "    <tr>\n",
       "      <th>4</th>\n",
       "      <td>Control Campaign</td>\n",
       "      <td>5.08.2019</td>\n",
       "      <td>1835</td>\n",
       "      <td>NaN</td>\n",
       "      <td>NaN</td>\n",
       "      <td>NaN</td>\n",
       "      <td>NaN</td>\n",
       "      <td>NaN</td>\n",
       "      <td>NaN</td>\n",
       "      <td>NaN</td>\n",
       "    </tr>\n",
       "  </tbody>\n",
       "</table>\n",
       "</div>"
      ],
      "text/plain": [
       "      Campaign Name       Date  Spend [USD]  # of Impressions     Reach  \\\n",
       "0  Control Campaign  1.08.2019         2280           82702.0   56930.0   \n",
       "1  Control Campaign  2.08.2019         1757          121040.0  102513.0   \n",
       "2  Control Campaign  3.08.2019         2343          131711.0  110862.0   \n",
       "3  Control Campaign  4.08.2019         1940           72878.0   61235.0   \n",
       "4  Control Campaign  5.08.2019         1835               NaN       NaN   \n",
       "\n",
       "   # of Website Clicks  # of Searches  # of View Content  # of Add to Cart  \\\n",
       "0               7016.0         2290.0             2159.0            1819.0   \n",
       "1               8110.0         2033.0             1841.0            1219.0   \n",
       "2               6508.0         1737.0             1549.0            1134.0   \n",
       "3               3065.0         1042.0              982.0            1183.0   \n",
       "4                  NaN            NaN                NaN               NaN   \n",
       "\n",
       "   # of Purchase  \n",
       "0          618.0  \n",
       "1          511.0  \n",
       "2          372.0  \n",
       "3          340.0  \n",
       "4            NaN  "
      ]
     },
     "execution_count": 1,
     "metadata": {},
     "output_type": "execute_result"
    }
   ],
   "source": [
    "import pandas as pd\n",
    "\n",
    "# Load control group dataset\n",
    "control_group = pd.read_csv('control_group.csv', sep=';')\n",
    "control_group.head()"
   ]
  },
  {
   "cell_type": "code",
   "execution_count": 2,
   "id": "aeb73e79-c936-4595-b743-47274fbe50be",
   "metadata": {},
   "outputs": [
    {
     "data": {
      "text/html": [
       "<div>\n",
       "<style scoped>\n",
       "    .dataframe tbody tr th:only-of-type {\n",
       "        vertical-align: middle;\n",
       "    }\n",
       "\n",
       "    .dataframe tbody tr th {\n",
       "        vertical-align: top;\n",
       "    }\n",
       "\n",
       "    .dataframe thead th {\n",
       "        text-align: right;\n",
       "    }\n",
       "</style>\n",
       "<table border=\"1\" class=\"dataframe\">\n",
       "  <thead>\n",
       "    <tr style=\"text-align: right;\">\n",
       "      <th></th>\n",
       "      <th>Campaign Name</th>\n",
       "      <th>Date</th>\n",
       "      <th>Spend [USD]</th>\n",
       "      <th># of Impressions</th>\n",
       "      <th>Reach</th>\n",
       "      <th># of Website Clicks</th>\n",
       "      <th># of Searches</th>\n",
       "      <th># of View Content</th>\n",
       "      <th># of Add to Cart</th>\n",
       "      <th># of Purchase</th>\n",
       "    </tr>\n",
       "  </thead>\n",
       "  <tbody>\n",
       "    <tr>\n",
       "      <th>0</th>\n",
       "      <td>Test Campaign</td>\n",
       "      <td>1.08.2019</td>\n",
       "      <td>3008</td>\n",
       "      <td>39550</td>\n",
       "      <td>35820</td>\n",
       "      <td>3038</td>\n",
       "      <td>1946</td>\n",
       "      <td>1069</td>\n",
       "      <td>894</td>\n",
       "      <td>255</td>\n",
       "    </tr>\n",
       "    <tr>\n",
       "      <th>1</th>\n",
       "      <td>Test Campaign</td>\n",
       "      <td>2.08.2019</td>\n",
       "      <td>2542</td>\n",
       "      <td>100719</td>\n",
       "      <td>91236</td>\n",
       "      <td>4657</td>\n",
       "      <td>2359</td>\n",
       "      <td>1548</td>\n",
       "      <td>879</td>\n",
       "      <td>677</td>\n",
       "    </tr>\n",
       "    <tr>\n",
       "      <th>2</th>\n",
       "      <td>Test Campaign</td>\n",
       "      <td>3.08.2019</td>\n",
       "      <td>2365</td>\n",
       "      <td>70263</td>\n",
       "      <td>45198</td>\n",
       "      <td>7885</td>\n",
       "      <td>2572</td>\n",
       "      <td>2367</td>\n",
       "      <td>1268</td>\n",
       "      <td>578</td>\n",
       "    </tr>\n",
       "    <tr>\n",
       "      <th>3</th>\n",
       "      <td>Test Campaign</td>\n",
       "      <td>4.08.2019</td>\n",
       "      <td>2710</td>\n",
       "      <td>78451</td>\n",
       "      <td>25937</td>\n",
       "      <td>4216</td>\n",
       "      <td>2216</td>\n",
       "      <td>1437</td>\n",
       "      <td>566</td>\n",
       "      <td>340</td>\n",
       "    </tr>\n",
       "    <tr>\n",
       "      <th>4</th>\n",
       "      <td>Test Campaign</td>\n",
       "      <td>5.08.2019</td>\n",
       "      <td>2297</td>\n",
       "      <td>114295</td>\n",
       "      <td>95138</td>\n",
       "      <td>5863</td>\n",
       "      <td>2106</td>\n",
       "      <td>858</td>\n",
       "      <td>956</td>\n",
       "      <td>768</td>\n",
       "    </tr>\n",
       "  </tbody>\n",
       "</table>\n",
       "</div>"
      ],
      "text/plain": [
       "   Campaign Name       Date  Spend [USD]  # of Impressions  Reach  \\\n",
       "0  Test Campaign  1.08.2019         3008             39550  35820   \n",
       "1  Test Campaign  2.08.2019         2542            100719  91236   \n",
       "2  Test Campaign  3.08.2019         2365             70263  45198   \n",
       "3  Test Campaign  4.08.2019         2710             78451  25937   \n",
       "4  Test Campaign  5.08.2019         2297            114295  95138   \n",
       "\n",
       "   # of Website Clicks  # of Searches  # of View Content  # of Add to Cart  \\\n",
       "0                 3038           1946               1069               894   \n",
       "1                 4657           2359               1548               879   \n",
       "2                 7885           2572               2367              1268   \n",
       "3                 4216           2216               1437               566   \n",
       "4                 5863           2106                858               956   \n",
       "\n",
       "   # of Purchase  \n",
       "0            255  \n",
       "1            677  \n",
       "2            578  \n",
       "3            340  \n",
       "4            768  "
      ]
     },
     "execution_count": 2,
     "metadata": {},
     "output_type": "execute_result"
    }
   ],
   "source": [
    "# Load test group dataset\n",
    "treatment_group = pd.read_csv('test_group.csv', sep=';')\n",
    "treatment_group.head()"
   ]
  },
  {
   "cell_type": "markdown",
   "id": "dacf3a2d",
   "metadata": {},
   "source": [
    "The datasets are explored to check for missing values and ensure the data types align with expectations."
   ]
  },
  {
   "cell_type": "code",
   "execution_count": 3,
   "id": "0db13648-2d0a-4109-ad96-a1390c920e7e",
   "metadata": {},
   "outputs": [
    {
     "name": "stdout",
     "output_type": "stream",
     "text": [
      "Campaign Name          0\n",
      "Date                   0\n",
      "Spend [USD]            0\n",
      "# of Impressions       1\n",
      "Reach                  1\n",
      "# of Website Clicks    1\n",
      "# of Searches          1\n",
      "# of View Content      1\n",
      "# of Add to Cart       1\n",
      "# of Purchase          1\n",
      "dtype: int64\n",
      "Campaign Name           object\n",
      "Date                    object\n",
      "Spend [USD]              int64\n",
      "# of Impressions       float64\n",
      "Reach                  float64\n",
      "# of Website Clicks    float64\n",
      "# of Searches          float64\n",
      "# of View Content      float64\n",
      "# of Add to Cart       float64\n",
      "# of Purchase          float64\n",
      "dtype: object\n"
     ]
    }
   ],
   "source": [
    "# Check for missing values\n",
    "print(control_group.isnull().sum())\n",
    "\n",
    "# Display data types\n",
    "print(control_group.dtypes)\n"
   ]
  },
  {
   "cell_type": "code",
   "execution_count": 4,
   "id": "de9b226a-d173-4a48-a42d-5707a1886bf7",
   "metadata": {},
   "outputs": [
    {
     "name": "stdout",
     "output_type": "stream",
     "text": [
      "Campaign Name          0\n",
      "Date                   0\n",
      "Spend [USD]            0\n",
      "# of Impressions       0\n",
      "Reach                  0\n",
      "# of Website Clicks    0\n",
      "# of Searches          0\n",
      "# of View Content      0\n",
      "# of Add to Cart       0\n",
      "# of Purchase          0\n",
      "dtype: int64\n",
      "Campaign Name          object\n",
      "Date                   object\n",
      "Spend [USD]             int64\n",
      "# of Impressions        int64\n",
      "Reach                   int64\n",
      "# of Website Clicks     int64\n",
      "# of Searches           int64\n",
      "# of View Content       int64\n",
      "# of Add to Cart        int64\n",
      "# of Purchase           int64\n",
      "dtype: object\n"
     ]
    }
   ],
   "source": [
    "# Check for missing values\n",
    "print(treatment_group.isnull().sum())\n",
    "\n",
    "# Display data types\n",
    "print(treatment_group.dtypes)\n"
   ]
  },
  {
   "cell_type": "markdown",
   "id": "9cf0cc8a",
   "metadata": {},
   "source": [
    "Missing values in key columns are filled with the mean of the respective column. This ensures that the analysis can proceed without disruptions caused by missing data."
   ]
  },
  {
   "cell_type": "code",
   "execution_count": 5,
   "id": "9332c2e9-fd21-4575-bf69-2d6088391894",
   "metadata": {},
   "outputs": [
    {
     "name": "stdout",
     "output_type": "stream",
     "text": [
      "Campaign Name          0\n",
      "Date                   0\n",
      "Spend [USD]            0\n",
      "# of Impressions       0\n",
      "Reach                  0\n",
      "# of Website Clicks    0\n",
      "# of Searches          0\n",
      "# of View Content      0\n",
      "# of Add to Cart       0\n",
      "# of Purchase          0\n",
      "dtype: int64\n"
     ]
    }
   ],
   "source": [
    "# Handle missing values by filling with mean\n",
    "\n",
    "columns_with_missing_values = [\n",
    "    '# of Impressions',\n",
    "    'Reach',\n",
    "    '# of Website Clicks',\n",
    "    '# of Searches',\n",
    "    '# of View Content',\n",
    "    '# of Add to Cart',\n",
    "    '# of Purchase'\n",
    "]\n",
    "\n",
    "for column in columns_with_missing_values:\n",
    "    control_group[column] = control_group[column].fillna(control_group[column].mean())\n",
    "\n",
    "print(control_group.isnull().sum()) "
   ]
  },
  {
   "cell_type": "markdown",
   "id": "6bd1953d",
   "metadata": {},
   "source": [
    "## Analysis and Insights\n",
    "Further analysis will compare metrics between control and test campaigns, with statistical testing to determine if differences are significant."
   ]
  },
  {
   "cell_type": "code",
   "execution_count": 6,
   "id": "1068a3fb-b9d8-4289-9861-47f40df750c2",
   "metadata": {},
   "outputs": [],
   "source": [
    "# Concat the two dataframes\n",
    "data = pd.concat([control_group, treatment_group])\n"
   ]
  },
  {
   "cell_type": "code",
   "execution_count": 7,
   "id": "2ff425d6-c1aa-4580-880f-5e00096d1426",
   "metadata": {},
   "outputs": [],
   "source": [
    "column_names = ['Campaign Name', 'Date', 'Amount Spent', 'Impressions', \n",
    "                'Unique Impressions', 'Clicks', 'Number of Searches', \n",
    "                'Views', 'Add to Carts', 'Purchases']"
   ]
  },
  {
   "cell_type": "code",
   "execution_count": 8,
   "id": "d8971641-fc88-44e4-ae56-eec95c2a4d24",
   "metadata": {},
   "outputs": [],
   "source": [
    "# Renaming columns for clarity\n",
    "data.columns = column_names"
   ]
  },
  {
   "cell_type": "code",
   "execution_count": 9,
   "id": "9f392c5b-34dc-4c5e-a05e-d9cb0c76c999",
   "metadata": {},
   "outputs": [
    {
     "data": {
      "text/html": [
       "<div>\n",
       "<style scoped>\n",
       "    .dataframe tbody tr th:only-of-type {\n",
       "        vertical-align: middle;\n",
       "    }\n",
       "\n",
       "    .dataframe tbody tr th {\n",
       "        vertical-align: top;\n",
       "    }\n",
       "\n",
       "    .dataframe thead th {\n",
       "        text-align: right;\n",
       "    }\n",
       "</style>\n",
       "<table border=\"1\" class=\"dataframe\">\n",
       "  <thead>\n",
       "    <tr style=\"text-align: right;\">\n",
       "      <th></th>\n",
       "      <th>Campaign Name</th>\n",
       "      <th>CTR</th>\n",
       "      <th>CR</th>\n",
       "    </tr>\n",
       "  </thead>\n",
       "  <tbody>\n",
       "    <tr>\n",
       "      <th>0</th>\n",
       "      <td>Control Campaign</td>\n",
       "      <td>0.050879</td>\n",
       "      <td>0.114221</td>\n",
       "    </tr>\n",
       "    <tr>\n",
       "      <th>1</th>\n",
       "      <td>Test Campaign</td>\n",
       "      <td>0.102423</td>\n",
       "      <td>0.092312</td>\n",
       "    </tr>\n",
       "  </tbody>\n",
       "</table>\n",
       "</div>"
      ],
      "text/plain": [
       "      Campaign Name       CTR        CR\n",
       "0  Control Campaign  0.050879  0.114221\n",
       "1     Test Campaign  0.102423  0.092312"
      ]
     },
     "execution_count": 9,
     "metadata": {},
     "output_type": "execute_result"
    }
   ],
   "source": [
    "data['CTR'] = data['Clicks'] / data['Impressions']\n",
    "data['CR'] = data['Purchases'] / data['Clicks']\n",
    "\n",
    "metrics = ['CTR', 'CR']\n",
    "average_metrics = data.groupby('Campaign Name')[metrics].mean().reset_index()\n",
    "average_metrics\n"
   ]
  },
  {
   "cell_type": "markdown",
   "id": "8e583ce4-ba2a-4913-a72e-d77bb00f3c8c",
   "metadata": {},
   "source": [
    "The Test Campaign achieved a higher Click-Through Rate (CTR) compared to the Control Campaign, indicating better ad engagement. However, the Control Campaign had a higher Conversion Rate (CR), suggesting that it was more effective in driving actions from clicks. Further analysis is needed to optimize the Test Campaign's conversion process."
   ]
  },
  {
   "cell_type": "code",
   "execution_count": 22,
   "id": "a776954f-9a87-4938-9b5a-9feb1745553f",
   "metadata": {},
   "outputs": [
    {
     "data": {
      "image/png": "[encoded data removed]",
      "text/plain": [
       "<Figure size 600x600 with 1 Axes>"
      ]
     },
     "metadata": {},
     "output_type": "display_data"
    }
   ],
   "source": [
    "import matplotlib.pyplot as plt\n",
    "import seaborn as sns\n",
    "\n",
    "# Data preparation\n",
    "average_metrics = data.groupby('Campaign Name')[['CTR', 'CR']].mean().reset_index()\n",
    "\n",
    "# Bar chart\n",
    "fig, ax = plt.subplots(1, 1, figsize=(6, 6))\n",
    "\n",
    "# Plot bar chart for CTR and CR\n",
    "x = average_metrics['Campaign Name']\n",
    "ctr_values = average_metrics['CTR']\n",
    "cr_values = average_metrics['CR']\n",
    "\n",
    "# Width of the bars\n",
    "bar_width = 0.4\n",
    "x_positions = range(len(x))\n",
    "\n",
    "# Create bar charts for CTR and CR\n",
    "bars_ctr = ax.bar([p - bar_width/2 for p in x_positions], ctr_values, bar_width, label='CTR', alpha=0.8)\n",
    "bars_cr = ax.bar([p + bar_width/2 for p in x_positions], cr_values, bar_width, label='CR', alpha=0.8)\n",
    "\n",
    "# Set title, labels, and ticks\n",
    "ax.set_title('Aggregated CTR and CR by Campaign', fontsize=14)\n",
    "ax.set_xlabel('Campaign Name', fontsize=12)\n",
    "ax.set_ylabel('Metrics', fontsize=12)\n",
    "ax.set_xticks(x_positions)\n",
    "ax.set_xticklabels(x, fontsize=10)\n",
    "ax.legend(fontsize=12)\n",
    "\n",
    "# Display values on top of bars\n",
    "for bar in bars_ctr + bars_cr:\n",
    "    height = bar.get_height()\n",
    "    ax.text(bar.get_x() + bar.get_width() / 2, height, f'{height:.2f}', ha='center', va='bottom', fontsize=10)\n",
    "\n",
    "# Show the plot\n",
    "plt.tight_layout()\n",
    "plt.show()"
   ]
  },
  {
   "cell_type": "code",
   "execution_count": 12,
   "id": "46e3332b-8416-4457-a80e-dbb758fa0eb5",
   "metadata": {},
   "outputs": [
    {
     "data": {
      "image/png": "[encoded data removed]",
      "text/plain": [
       "<Figure size 1500x600 with 2 Axes>"
      ]
     },
     "metadata": {},
     "output_type": "display_data"
    }
   ],
   "source": [
    "# Set plot style\n",
    "sns.set(style=\"whitegrid\")\n",
    "\n",
    "# Separate control and test campaigns\n",
    "control_campaign = data[data['Campaign Name'] == 'Control Campaign']\n",
    "test_campaign = data[data['Campaign Name'] == 'Test Campaign']\n",
    "\n",
    "# Calculate means\n",
    "control_ctr_mean = control_campaign['CTR'].mean()\n",
    "test_ctr_mean = test_campaign['CTR'].mean()\n",
    "\n",
    "control_cr_mean = control_campaign['CR'].mean()\n",
    "test_cr_mean = test_campaign['CR'].mean()\n",
    "\n",
    "# Plot histograms\n",
    "fig, axes = plt.subplots(1, 2, figsize=(15, 6))\n",
    "\n",
    "# Histogram for CTR\n",
    "sns.histplot(control_campaign['CTR'], kde=True, color='blue', label='Control', ax=axes[0], alpha=0.6)\n",
    "sns.histplot(test_campaign['CTR'], kde=True, color='orange', label='Test', ax=axes[0], alpha=0.6)\n",
    "axes[0].axvline(control_ctr_mean, color='blue', linestyle='--', linewidth=2, label='Control Mean')\n",
    "axes[0].axvline(test_ctr_mean, color='orange', linestyle='--', linewidth=2, label='Test Mean')\n",
    "axes[0].set_title('Histogram of CTR', fontsize=14)\n",
    "axes[0].set_xlabel('CTR', fontsize=12)\n",
    "axes[0].set_ylabel('Count', fontsize=12)\n",
    "axes[0].legend()\n",
    "\n",
    "# Histogram for CR\n",
    "sns.histplot(control_campaign['CR'], kde=True, color='blue', label='Control', ax=axes[1], alpha=0.6)\n",
    "sns.histplot(test_campaign['CR'], kde=True, color='orange', label='Test', ax=axes[1], alpha=0.6)\n",
    "axes[1].axvline(control_cr_mean, color='blue', linestyle='--', linewidth=2, label='Control Mean')\n",
    "axes[1].axvline(test_cr_mean, color='orange', linestyle='--', linewidth=2, label='Test Mean')\n",
    "axes[1].set_title('Histogram of CR', fontsize=14)\n",
    "axes[1].set_xlabel('CR', fontsize=12)\n",
    "axes[1].set_ylabel('Count', fontsize=12)\n",
    "axes[1].legend()\n",
    "\n",
    "# Adjust layout\n",
    "plt.tight_layout()\n",
    "plt.show()"
   ]
  },
  {
   "cell_type": "markdown",
   "id": "159de2a4-2b41-435b-9b9a-66f42526fe88",
   "metadata": {},
   "source": [
    "#### CTR (Click Through Rate) - Hypothesis Testing¶\n",
    "\n",
    "Null Hypothesis (H0): The mean CTR of the Control Campaign is equal to the mean CTR of the Test Campaign. \n",
    "\n",
    "Alternative Hypothesis (H1): The mean CTR of the Control Campaign is not equal to the mean CTR of the Test Campaign.\n",
    "\n",
    "#### CR (Conversion Rate) - Hypothesis Testing\n",
    "Null Hypothesis (H0): The mean CR of the Control Campaign is equal to the mean CR of the Test Campaign.\n",
    "\n",
    "Alternative Hypothesis (H1): The mean CR of the Control Campaign is not equal to the mean CR of the Test Campaign."
   ]
  },
  {
   "cell_type": "code",
   "execution_count": 13,
   "id": "857eead2-115e-4cae-8585-de805cfcd796",
   "metadata": {},
   "outputs": [],
   "source": [
    "control_data = data[data['Campaign Name'] == 'Control Campaign']\n",
    "test_data = data[data['Campaign Name'] == 'Test Campaign']\n",
    "\n",
    "control_ctr = control_data['CTR']\n",
    "test_ctr = test_data['CTR']"
   ]
  },
  {
   "cell_type": "code",
   "execution_count": 15,
   "id": "5b49e549-3ba7-4acd-baa8-643774c45e2e",
   "metadata": {},
   "outputs": [
    {
     "name": "stdout",
     "output_type": "stream",
     "text": [
      "CTR is normally distributed (p-value: 0.2807).\n",
      "CTR is not normally distributed (p-value: 0.0004).\n",
      "CR is not normally distributed (p-value: 0.0057).\n",
      "CR is not normally distributed (p-value: 0.0373).\n"
     ]
    }
   ],
   "source": [
    "from scipy.stats import shapiro\n",
    "\n",
    "def test_normality(data, metric):\n",
    "    stat, p = shapiro(data[metric])\n",
    "    if p < 0.05:\n",
    "        print(f\"{metric} is not normally distributed (p-value: {p:.4f}).\")\n",
    "    else:\n",
    "        print(f\"{metric} is normally distributed (p-value: {p:.4f}).\")\n",
    "\n",
    "# Test normality for CTR and CR\n",
    "test_normality(control_data, 'CTR')\n",
    "test_normality(test_data, 'CTR')\n",
    "test_normality(control_data, 'CR')\n",
    "test_normality(test_data, 'CR')"
   ]
  },
  {
   "cell_type": "markdown",
   "id": "dac0390a-b042-45d4-b915-e0b40bbdfa61",
   "metadata": {},
   "source": [
    "As CTR and CR are not normally distributed, we will proceed with the Mann-Whitney U Test to perform A/B testing for CTR and CR."
   ]
  },
  {
   "cell_type": "code",
   "execution_count": 17,
   "id": "b9184ff9-2033-4c8b-8238-24221f6e4dd5",
   "metadata": {},
   "outputs": [
    {
     "name": "stdout",
     "output_type": "stream",
     "text": [
      "Mann-Whitney U Test for CTR: U-Statistic = 199.0000, p-value = 0.0002\n",
      "Mann-Whitney U Test for CR: U-Statistic = 523.0000, p-value = 0.2838\n"
     ]
    }
   ],
   "source": [
    "from scipy.stats import mannwhitneyu\n",
    "\n",
    "def mann_whitney_test(control, treatment, metric):\n",
    "    stat, p = mannwhitneyu(control[metric], treatment[metric], alternative='two-sided')\n",
    "    print(f\"Mann-Whitney U Test for {metric}: U-Statistic = {stat:.4f}, p-value = {p:.4f}\")\n",
    "\n",
    "# Run Mann-Whitney U Test\n",
    "mann_whitney_test(control_data, test_data, 'CTR')\n",
    "mann_whitney_test(control_data, test_data, 'CR')"
   ]
  },
  {
   "cell_type": "markdown",
   "id": "5499e12e-53fb-47fd-b318-07ad2656ae5e",
   "metadata": {},
   "source": [
    "The p-value for CTR is less than the commonly used significance level of 0.05, indicating a statistically significant difference between the Control and Test campaigns, suggesting that the Test Campaign had a meaningful impact on improving CTR. In contrast, the p-value for CR is greater than 0.05, indicating no statistically significant difference between the two campaigns, implying that the change in campaign strategy did not have a notable effect on conversion rates."
   ]
  },
  {
   "cell_type": "markdown",
   "id": "66ef19f8-6354-4160-9fc5-0094a595c9a9",
   "metadata": {},
   "source": [
    "#### Effect Size: Cliff's Delta\n",
    "Cliff's Delta quantifies the magnitude of the difference between two groups:\n",
    "- *Small Effect:* 0.11 < |Delta| <= 0.33\n",
    "- *Medium Effect:* 0.33 < |Delta| <= 0.47\n",
    "- *Large Effect:* |Delta| > 0.47\n"
   ]
  },
  {
   "cell_type": "code",
   "execution_count": 19,
   "id": "ef2ce45e-828a-41ea-be68-382ab1a8515f",
   "metadata": {},
   "outputs": [
    {
     "name": "stdout",
     "output_type": "stream",
     "text": [
      "Cliff's Delta for CTR: Delta = -0.5578, Size = large\n",
      "Cliff's Delta for CR: Delta = 0.1622, Size = small\n"
     ]
    }
   ],
   "source": [
    "# Effect size test\n",
    "\n",
    "from cliffs_delta import cliffs_delta\n",
    "import statsmodels.stats.api as sms\n",
    "\n",
    "\n",
    "def calculate_cliffs_delta(control, treatment, metric):\n",
    "    delta, size = cliffs_delta(control[metric].values, treatment[metric].values)\n",
    "    print(f\"Cliff's Delta for {metric}: Delta = {delta:.4f}, Size = {size}\")\n",
    "\n",
    "calculate_cliffs_delta(control_data, test_data, 'CTR')\n",
    "calculate_cliffs_delta(control_data, test_data, 'CR')"
   ]
  },
  {
   "cell_type": "markdown",
   "id": "6127ef1d-d20e-4262-8424-33780010d080",
   "metadata": {},
   "source": [
    "The Test Campaign shows a large, meaningful improvement in CTR compared to the Control Campaign, as indicated by both statistical significance (p-value) and practical significance (large Cliff's Delta). However, the small effect size for CR suggests that the differences in conversion rates between the campaigns are not practically significant, reinforcing the need to investigate potential bottlenecks in the conversion process."
   ]
  },
  {
   "cell_type": "markdown",
   "id": "016c241b-183d-4876-aa9a-b014cbbedb49",
   "metadata": {},
   "source": [
    "#### Sample Size Effect"
   ]
  },
  {
   "cell_type": "code",
   "execution_count": 20,
   "id": "4d3bca45-5caa-438e-8695-463d9061b3f6",
   "metadata": {},
   "outputs": [
    {
     "name": "stdout",
     "output_type": "stream",
     "text": [
      "Required sample size per group for detecting a medium effect size: 85.03\n"
     ]
    }
   ],
   "source": [
    "from statsmodels.stats.power import TTestIndPower\n",
    "\n",
    "# Parameters\n",
    "effect_size = 0.5  # Medium effect size (Cohen's d)\n",
    "alpha = 0.05       # Significance level\n",
    "power = 0.9        # Desired power (90%)\n",
    "\n",
    "# Required sample size\n",
    "analysis = TTestIndPower()\n",
    "required_sample_size = analysis.solve_power(effect_size=effect_size, alpha=alpha, power=power, ratio=1)\n",
    "\n",
    "print(f\"Required sample size per group for detecting a medium effect size: {required_sample_size:.2f}\")\n"
   ]
  },
  {
   "cell_type": "markdown",
   "id": "e72564c7-f6bb-45fe-b265-397c178d1be9",
   "metadata": {},
   "source": [
    "Based on the sample size analysis for a medium effect size with 90% power, the required sample size is 85 samples per group. However, the current dataset contains only 30 samples for each campaign type. This limited sample size may reduce the accuracy and reliability of the results. A larger sample size would improve the statistical power and provide more robust and generalizable conclusions."
   ]
  },
  {
   "cell_type": "code",
   "execution_count": 21,
   "id": "2b4742ac-2bac-464f-9934-e4aa89e50693",
   "metadata": {},
   "outputs": [
    {
     "name": "stdout",
     "output_type": "stream",
     "text": [
      "Confidence Interval for CTR: 0.0434 to 0.0584\n",
      "Confidence Interval for CTR: 0.0771 to 0.1277\n",
      "Confidence Interval for CR: 0.0891 to 0.1393\n",
      "Confidence Interval for CR: 0.0757 to 0.1089\n"
     ]
    }
   ],
   "source": [
    "def confidence_interval(data, metric, alpha=0.05):\n",
    "    ci = sms.DescrStatsW(data[metric]).tconfint_mean(alpha=alpha)\n",
    "    print(f\"Confidence Interval for {metric}: {ci[0]:.4f} to {ci[1]:.4f}\")\n",
    "\n",
    "confidence_interval(control_data, 'CTR')\n",
    "confidence_interval(test_data, 'CTR')\n",
    "confidence_interval(control_data, 'CR')\n",
    "confidence_interval(test_data, 'CR')"
   ]
  },
  {
   "cell_type": "markdown",
   "id": "bc503f9d-9a4d-435c-b664-50c1f49c7a37",
   "metadata": {},
   "source": [
    "Since the confidence intervals for CTR do not overlap, we can infer a significant difference in CTR between the Control and Test campaigns, with the Test Campaign consistently performing better in terms of click-through rates. In contrast, the overlap between the confidence intervals for CR suggests that the difference in conversion rates between the two campaigns is not statistically significant, aligning with the Mann-Whitney U Test results. Overall, the confidence intervals confirm that the Test Campaign significantly improves CTR compared to the Control Campaign, while the overlap in CR intervals indicates no meaningful difference in conversion rates. Confidence intervals provide a comprehensive view of the reliability and significance of these observed differences."
   ]
  },
  {
   "cell_type": "markdown",
   "id": "12c19ae7",
   "metadata": {},
   "source": [
    "## Conclusions and Recommendations\n",
    "\n",
    "### Key Findings\n",
    "1. **CTR Improvement:** The Test Campaign significantly improves CTR compared to the Control Campaign, supported by statistical significance (p < 0.05) and a large effect size.\n",
    "2. **No Significant CR Difference:** The difference in CR between the two campaigns is not statistically or practically significant.\n",
    "3. **Sample Size Limitation:** The current sample size (30 per group) is insufficient for detecting medium effect sizes with high statistical power.\n",
    "\n",
    "### Recommendations\n",
    "1. **Focus on CTR Optimization:** Continue using strategies from the Test Campaign to improve CTR further.\n",
    "2. **Address Conversion Bottlenecks:** Investigate the conversion funnel to identify and mitigate issues preventing higher CR.\n",
    "3. **Increase Sample Size:** Collect more data to ensure robust and reliable conclusions for future campaigns.\n",
    "4. **Segment-Specific Strategies:** Analyze campaign performance across different audience segments (e.g., device type, geography) to tailor strategies effectively.\n"
   ]
  },
  {
   "cell_type": "code",
   "execution_count": null,
   "id": "81d8915f-cd16-44e2-9a27-6a1785b25eba",
   "metadata": {},
   "outputs": [],
   "source": []
  }
 ],
 "metadata": {
  "kernelspec": {
   "display_name": "Python 3 (ipykernel)",
   "language": "python",
   "name": "python3"
  },
  "language_info": {
   "codemirror_mode": {
    "name": "ipython",
    "version": 3
   },
   "file_extension": ".py",
   "mimetype": "text/x-python",
   "name": "python",
   "nbconvert_exporter": "python",
   "pygments_lexer": "ipython3",
   "version": "3.12.7"
  }
 },
 "nbformat": 4,
 "nbformat_minor": 5
}
